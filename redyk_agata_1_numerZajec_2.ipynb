{
  "nbformat": 4,
  "nbformat_minor": 0,
  "metadata": {
    "colab": {
      "provenance": []
    },
    "kernelspec": {
      "name": "python3",
      "display_name": "Python 3"
    },
    "language_info": {
      "name": "python"
    }
  },
  "cells": [
    {
      "cell_type": "code",
      "source": [
        "zmienna1 = \"Uwielbiam zajęcia z programowania\"\n",
        "print (zmienna1[13:23])\n",
        "\n",
        "print (zmienna1[-50:None])\n",
        "\n",
        "print (zmienna1[1:None:3])"
      ],
      "metadata": {
        "colab": {
          "base_uri": "https://localhost:8080/"
        },
        "id": "84lbZzU4x6Lk",
        "outputId": "5e9e3bce-caf6-438e-eadb-1445990eafb4"
      },
      "execution_count": 24,
      "outputs": [
        {
          "output_type": "stream",
          "name": "stdout",
          "text": [
            "ęcia z pro\n",
            "Uwielbiam zajęcia z programowania\n",
            "wlazęa oawi\n"
          ]
        }
      ]
    },
    {
      "cell_type": "code",
      "source": [
        "zmienna2 = \"Czarny to mój ulubiony kolor, niestety, kolor czarny bardzo szybko spiera się z moich ubrań\"\n",
        "print (zmienna2.istitle())\n",
        "\n",
        "#print (zmienna2[0])\n",
        "print (zmienna2[0].isupper())\n",
        "\n",
        "zmienna2 = zmienna2.lower()\n",
        "zmienna2 = zmienna2.replace(\"czarny\",\"biały\")\n",
        "print (zmienna2. capitalize())"
      ],
      "metadata": {
        "colab": {
          "base_uri": "https://localhost:8080/"
        },
        "id": "TjA-o4QEzMSr",
        "outputId": "3ce54dd7-4462-40ea-c3ee-f21f49e7fc96"
      },
      "execution_count": 36,
      "outputs": [
        {
          "output_type": "stream",
          "name": "stdout",
          "text": [
            "False\n",
            "True\n",
            "Biały to mój ulubiony kolor, niestety, kolor biały bardzo szybko spiera się z moich ubrań\n"
          ]
        }
      ]
    }
  ]
}