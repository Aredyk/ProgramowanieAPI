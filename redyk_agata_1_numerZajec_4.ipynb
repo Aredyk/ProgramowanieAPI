{
  "nbformat": 4,
  "nbformat_minor": 0,
  "metadata": {
    "colab": {
      "provenance": []
    },
    "kernelspec": {
      "name": "python3",
      "display_name": "Python 3"
    },
    "language_info": {
      "name": "python"
    }
  },
  "cells": [
    {
      "cell_type": "markdown",
      "source": [
        "Zadanie 1"
      ],
      "metadata": {
        "id": "4zQ5rqjafWTW"
      }
    },
    {
      "cell_type": "code",
      "execution_count": 92,
      "metadata": {
        "colab": {
          "base_uri": "https://localhost:8080/"
        },
        "id": "vU54RiLnfRd_",
        "outputId": "b7b9bbbd-1391-401a-ddf2-109d49fcfdae"
      },
      "outputs": [
        {
          "output_type": "stream",
          "name": "stdout",
          "text": [
            "Podaj liczbę całkowitą dodatnią: 6\n",
            "1\n",
            "12\n",
            "123\n",
            "1234\n",
            "12345\n"
          ]
        }
      ],
      "source": [
        "# 1\n",
        "# 12\n",
        "# 123\n",
        "\n",
        "n = input(\"Podaj liczbę całkowitą dodatnią: \")\n",
        "\n",
        "if n.isdigit():\n",
        "  ciag = str(1)\n",
        "  n = int(n)\n",
        "\n",
        "  for i in range(1,n):\n",
        "    print(ciag)\n",
        "    ciag = ciag+str(i+1)\n",
        "\n",
        "else:\n",
        "  print (\"To nie jest liczba całkowita dodatnia.\")"
      ]
    },
    {
      "cell_type": "markdown",
      "source": [
        "Zadanie 2"
      ],
      "metadata": {
        "id": "jrnDEY7Zi_zq"
      }
    },
    {
      "cell_type": "code",
      "source": [
        "# *\n",
        "# **\n",
        "# ***\n",
        "# **\n",
        "# *\n",
        "\n",
        "num_of_rows = 6\n",
        "for i in range(num_of_rows):\n",
        "  print(\"*\"*i)\n",
        "  if i == num_of_rows-1:\n",
        "    for i in reversed(range(num_of_rows-1)):\n",
        "      print(\"*\"*i)\n"
      ],
      "metadata": {
        "colab": {
          "base_uri": "https://localhost:8080/"
        },
        "id": "_4wZMj09jF5z",
        "outputId": "acab295a-7a4f-4d50-8ec5-57fa9cd7b9ca"
      },
      "execution_count": 93,
      "outputs": [
        {
          "output_type": "stream",
          "name": "stdout",
          "text": [
            "\n",
            "*\n",
            "**\n",
            "***\n",
            "****\n",
            "*****\n",
            "****\n",
            "***\n",
            "**\n",
            "*\n",
            "\n"
          ]
        }
      ]
    },
    {
      "cell_type": "markdown",
      "source": [
        "Zadanie 3"
      ],
      "metadata": {
        "id": "N_w4rulCjnt7"
      }
    },
    {
      "cell_type": "code",
      "source": [
        "lista = [6, 2, 3, 7, 1, 12, 56, 99]\n",
        "\n",
        "#A\n",
        "for liczba in lista:\n",
        "  if len(str(liczba))==2:\n",
        "    liczba = str(liczba)\n",
        "    print(liczba, type(liczba))\n",
        "\n",
        "#B\n",
        "lista.sort()\n",
        "print(\"Najmniejsza wartość listy:\", lista[0])"
      ],
      "metadata": {
        "colab": {
          "base_uri": "https://localhost:8080/"
        },
        "id": "YOoB-9a9jpWt",
        "outputId": "4a7491ad-951f-4b13-b43e-7e51a1dad672"
      },
      "execution_count": 94,
      "outputs": [
        {
          "output_type": "stream",
          "name": "stdout",
          "text": [
            "12 <class 'str'>\n",
            "56 <class 'str'>\n",
            "99 <class 'str'>\n",
            "Najmniejsza wartość listy: 1\n"
          ]
        }
      ]
    }
  ]
}