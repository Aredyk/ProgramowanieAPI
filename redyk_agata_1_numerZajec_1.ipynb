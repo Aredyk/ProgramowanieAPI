{
  "nbformat": 4,
  "nbformat_minor": 0,
  "metadata": {
    "colab": {
      "provenance": [],
      "collapsed_sections": []
    },
    "kernelspec": {
      "name": "python3",
      "display_name": "Python 3"
    },
    "language_info": {
      "name": "python"
    }
  },
  "cells": [
    {
      "cell_type": "code",
      "execution_count": 3,
      "metadata": {
        "colab": {
          "base_uri": "https://localhost:8080/"
        },
        "id": "OQe9Z6DAjrgn",
        "outputId": "dfcec64e-fd13-4828-c823-aa7189d57cb8"
      },
      "outputs": [
        {
          "output_type": "stream",
          "name": "stdout",
          "text": [
            "Lorem ipsum dolor sit amet, consectetur adipiscing elit,\n",
            "sed do eiusmod tempor incididunt ut labore\n",
            "et dolore magna aliqua.\n"
          ]
        }
      ],
      "source": [
        "print (\"\"\"Lorem ipsum dolor sit amet, consectetur adipiscing elit,\n",
        "sed do eiusmod tempor incididunt ut labore\n",
        "et dolore magna aliqua.\"\"\")"
      ]
    },
    {
      "cell_type": "code",
      "source": [
        "i = 5\n",
        "f = 3.2\n",
        "b = True\n",
        "s = \"panda\"\n",
        "print (i, f, b, s)"
      ],
      "metadata": {
        "colab": {
          "base_uri": "https://localhost:8080/"
        },
        "id": "nSmWQQIEdIar",
        "outputId": "bbda86bb-2ee0-4773-c4d0-7c197749c4f5"
      },
      "execution_count": 2,
      "outputs": [
        {
          "output_type": "stream",
          "name": "stdout",
          "text": [
            "5 3.2 True panda\n"
          ]
        }
      ]
    },
    {
      "cell_type": "code",
      "source": [
        "x1 = 5\n",
        "x2 = 13\n",
        "print (x1 + x2)\n",
        "print (x1 - x2)\n",
        "print (x1 * x2)\n",
        "print (x1 / x2)\n",
        "print (x1 % x2)\n",
        "print (x1 ** x2)"
      ],
      "metadata": {
        "colab": {
          "base_uri": "https://localhost:8080/"
        },
        "id": "1EBrgf4Se22D",
        "outputId": "6b1827b4-11b1-4016-da55-997b9641b490"
      },
      "execution_count": 1,
      "outputs": [
        {
          "output_type": "stream",
          "name": "stdout",
          "text": [
            "18\n",
            "-8\n",
            "65\n",
            "0.38461538461538464\n",
            "5\n",
            "1220703125\n"
          ]
        }
      ]
    },
    {
      "cell_type": "code",
      "source": [
        "y1 = 3.2\n",
        "y2 = 3.22\n",
        "print (y1 == y2)\n",
        "print (y1 != y2)\n",
        "print (y1 > y2)\n",
        "print (y1 < y2)\n",
        "print (y1 >= y2)\n",
        "print (y1 <= y2)"
      ],
      "metadata": {
        "colab": {
          "base_uri": "https://localhost:8080/"
        },
        "id": "MzrA5s_nfqS3",
        "outputId": "5ed7d890-f561-438a-f337-4733c7e00c45"
      },
      "execution_count": 17,
      "outputs": [
        {
          "output_type": "stream",
          "name": "stdout",
          "text": [
            "False\n",
            "True\n",
            "False\n",
            "True\n",
            "False\n",
            "True\n"
          ]
        }
      ]
    },
    {
      "cell_type": "code",
      "source": [
        "s1 = \"red\"\n",
        "s2 = \"panda\"\n",
        "print (\"<-\", s1, \"|\", s2, \"->\")"
      ],
      "metadata": {
        "colab": {
          "base_uri": "https://localhost:8080/"
        },
        "id": "J0mOODsfglul",
        "outputId": "52c8d526-0950-418d-9ea8-1976604ee0ad"
      },
      "execution_count": 4,
      "outputs": [
        {
          "output_type": "stream",
          "name": "stdout",
          "text": [
            "<- red | panda ->\n"
          ]
        }
      ]
    }
  ]
}