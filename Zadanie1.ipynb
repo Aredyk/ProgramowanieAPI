{
  "nbformat": 4,
  "nbformat_minor": 0,
  "metadata": {
    "colab": {
      "provenance": [],
      "collapsed_sections": []
    },
    "kernelspec": {
      "name": "python3",
      "display_name": "Python 3"
    },
    "language_info": {
      "name": "python"
    }
  },
  "cells": [
    {
      "cell_type": "code",
      "execution_count": null,
      "metadata": {
        "id": "OQe9Z6DAjrgn"
      },
      "outputs": [],
      "source": [
        "print (\"\"\"Lorem ipsum dolor sit amet, consectetur adipiscing elit,\n",
        "sed do eiusmod tempor incididunt ut labore\n",
        "et dolore magna aliqua.\"\"\")"
      ]
    },
    {
      "cell_type": "code",
      "source": [
        "i = 5\n",
        "f = 3.2\n",
        "b = True\n",
        "s = \"panda\"\n",
        "print (i, f, b, s)"
      ],
      "metadata": {
        "id": "nSmWQQIEdIar"
      },
      "execution_count": null,
      "outputs": []
    },
    {
      "cell_type": "code",
      "source": [
        "x1 = 5\n",
        "x2 = 13\n",
        "print (x1 + x2)\n",
        "print (x1 - x2)\n",
        "print (x1 * x2)\n",
        "print (x1 / x2)\n",
        "print (x1 % x2)\n",
        "print (x1 ** x2)"
      ],
      "metadata": {
        "id": "1EBrgf4Se22D"
      },
      "execution_count": null,
      "outputs": []
    },
    {
      "cell_type": "code",
      "source": [
        "y1 = 3.2\n",
        "y2 = 3.22\n",
        "print (y1 == y2)\n",
        "print (y1 != y2)\n",
        "print (y1 > y2)\n",
        "print (y1 < y2)\n",
        "print (y1 >= y2)\n",
        "print (y1 <= y2)"
      ],
      "metadata": {
        "colab": {
          "base_uri": "https://localhost:8080/"
        },
        "id": "MzrA5s_nfqS3",
        "outputId": "5ed7d890-f561-438a-f337-4733c7e00c45"
      },
      "execution_count": 17,
      "outputs": [
        {
          "output_type": "stream",
          "name": "stdout",
          "text": [
            "False\n",
            "True\n",
            "False\n",
            "True\n",
            "False\n",
            "True\n"
          ]
        }
      ]
    },
    {
      "cell_type": "code",
      "source": [
        "s1 = \"red\"\n",
        "s2 = \"panda\"\n",
        "print (\"<-\", s1, \"|\", s2, \"->\")"
      ],
      "metadata": {
        "id": "J0mOODsfglul"
      },
      "execution_count": null,
      "outputs": []
    }
  ]
}