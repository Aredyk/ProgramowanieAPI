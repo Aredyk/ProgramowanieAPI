{
  "nbformat": 4,
  "nbformat_minor": 0,
  "metadata": {
    "colab": {
      "provenance": []
    },
    "kernelspec": {
      "name": "python3",
      "display_name": "Python 3"
    },
    "language_info": {
      "name": "python"
    }
  },
  "cells": [
    {
      "cell_type": "markdown",
      "source": [
        "Formularz rejestracji"
      ],
      "metadata": {
        "id": "aAxu9A4pkUPz"
      }
    },
    {
      "cell_type": "code",
      "execution_count": null,
      "metadata": {
        "colab": {
          "base_uri": "https://localhost:8080/"
        },
        "id": "kkmiYnSO21wJ",
        "outputId": "bff9d91a-8586-4d44-ffc6-b917bc19b9e6"
      },
      "outputs": [
        {
          "output_type": "stream",
          "name": "stdout",
          "text": [
            "Podaj swoje imię: ala\n",
            "Podaj swój nazwisko: ma-kota\n",
            "Podaj swój wiek: 15\n",
            "Podaj hasło: klo\n",
            "Powtórz hasło: KLO\n",
            "Podaj numer telefonu: 789 1213-56\n",
            "Imię:  Ala\n",
            "Nazwisko:  Ma-Kota\n",
            "Wiek:  15\n",
            "Hasła różnią się\n",
            "Numer telefonu:  789121356\n"
          ]
        }
      ],
      "source": [
        "name = input(\"Podaj swoje imię: \")\n",
        "surname = input(\"Podaj swój nazwisko: \")\n",
        "age = input(\"Podaj swój wiek: \")\n",
        "password = input(\"Podaj hasło: \")\n",
        "repeat = input(\"Powtórz hasło: \")\n",
        "phone = input(\"Podaj numer telefonu: \")\n",
        "\n",
        "#wyświetl imię, jeśli składa się z liter\n",
        "if name.isalpha():\n",
        "  print(\"Imię: \", name.title())\n",
        "else:\n",
        "  print (\"Imię musi składać się z samych liter.\")\n",
        "\n",
        "#wyświetl nazwisko, jeśli składa się z liter (może być 2-członowe)\n",
        "surname1 = surname\n",
        "if \" \" in surname:\n",
        "  surname1 = surname.replace(\" \", \"\")\n",
        "elif \"-\" in surname:\n",
        "  surname1 = surname.replace(\"-\", \"\")\n",
        "\n",
        "if surname1.isalpha():\n",
        "  print(\"Nazwisko: \", surname.title())\n",
        "else:\n",
        "  print (\"Nazwisko musi składać się z samych liter.\")\n",
        "\n",
        "#wyświetl wiek, jeśli jest liczbą\n",
        "if age.isdigit():\n",
        "  print(\"Wiek: \", age)\n",
        "else:\n",
        "  print (\"Podaj liczbę w polu wiek.\")\n",
        "\n",
        "#czy hasła są takie same\n",
        "if password == repeat:\n",
        "  print (\"Hasło: \", password)\n",
        "else:\n",
        "  print(\"Hasła różnią się\")\n",
        "\n",
        "\n",
        "#czy numer ma spacje, myślniki, same cyfry sztuk 9\n",
        "if \" \" or \"-\" in phone:\n",
        "  phone = phone.replace(\" \", \"\")\n",
        "  phone = phone.replace(\"-\", \"\")\n",
        "\n",
        "if phone.isdigit():\n",
        "  if len(phone) == 9:\n",
        "    print (\"Numer telefonu: \", phone)\n",
        "  else:\n",
        "    print (\"Numer powinien składać się z 9 cyfr.\")\n",
        "else:\n",
        "  print (\"Numer telefonu powinien składać się z cyfr\")\n"
      ]
    },
    {
      "cell_type": "markdown",
      "source": [
        "Kalkulator"
      ],
      "metadata": {
        "id": "cc8EWrfPsC_P"
      }
    },
    {
      "cell_type": "code",
      "source": [
        "from traitlets.traitlets import Float\n",
        "\n",
        "x = input(\"Podaj pierwszą liczbę: \")\n",
        "y = input(\"Podaj drugą liczbę: \")\n",
        "print(\"Jaką działanie chcesz wykonać?\")\n",
        "print(\"1. Dodawanie\")\n",
        "print(\"2. Odejmowanie\")\n",
        "print(\"3. Mnożenie\")\n",
        "print(\"4. Dzielenie\")\n",
        "print(\"5. Reszta z dzielenia\")\n",
        "math_sign = input(\"Podaj numer działania: \")\n",
        "\n",
        "\n",
        "#czy x to liczba? Jeśli tak, zamień na float\n",
        "x1 = x\n",
        "if \".\" in x:\n",
        "  x1 = x.replace(\".\", \"\")\n",
        "\n",
        "if x1.isdigit():\n",
        "  x_float = float(x)\n",
        "else:\n",
        "  print(\"To nie jest liczba\")\n",
        "\n",
        "\n",
        "#czy y to liczba? Jeśli tak, zamień na float\n",
        "y1 = y\n",
        "if \".\" in y:\n",
        "  y1 = y.replace(\".\", \"\")\n",
        "\n",
        "if y1.isdigit():\n",
        "  y_float = float(y)\n",
        "else:\n",
        "  print(\"To nie jest liczba\")\n",
        "\n",
        "\n",
        "#czy oznaczenie znaku to liczba? Jeśli tak, licz '\n",
        "if math_sign.isdigit():\n",
        "  math_sign_int = int(math_sign)\n",
        "\n",
        "  if math_sign_int == 1:\n",
        "    wynik = x_float + y_float\n",
        "    print(x_float, \" + \", y_float, \" = \", wynik)\n",
        "\n",
        "  elif math_sign_int == 2:\n",
        "    wynik = x_float - y_float\n",
        "    print(x_float, \" - \", y_float, \" = \", wynik)\n",
        "\n",
        "  elif math_sign_int == 3:\n",
        "    wynik = x_float * y_float\n",
        "    print(x_float, \" * \", y_float, \" = \", wynik)\n",
        "\n",
        "  elif math_sign_int == 4:\n",
        "    if y_float == 0:\n",
        "      print(\"Dzielenie przez zero niedozwolone.\")\n",
        "    else:\n",
        "      wynik = x_float / y_float\n",
        "      print(x_float, \" / \", y_float, \" = \", wynik)\n",
        "\n",
        "  elif math_sign_int == 5 and y_float:\n",
        "    if y_float == 0:\n",
        "      print(\"Dzielenie przez zero niedozwolone.\")\n",
        "    else:\n",
        "      wynik = x_float % y_float\n",
        "      print(x_float, \" % \", y_float, \" = \", wynik)\n",
        "\n",
        "  else:\n",
        "    print(\"Numer musi być liczbą w zakresie 1-5.\")\n",
        "\n",
        "else:\n",
        "  print(\"Numer musi być liczbą w zakresie 1-5.\")"
      ],
      "metadata": {
        "id": "FVmhQU5n01KM",
        "colab": {
          "base_uri": "https://localhost:8080/"
        },
        "outputId": "25cbe6c0-aa54-4cf3-aa7d-59985d14e823"
      },
      "execution_count": 33,
      "outputs": [
        {
          "output_type": "stream",
          "name": "stdout",
          "text": [
            "Podaj pierwszą liczbę: 2.58\n",
            "Podaj drugą liczbę: 3\n",
            "Jaką działanie chcesz wykonać?\n",
            "1. Dodawanie\n",
            "2. Odejmowanie\n",
            "3. Mnożenie\n",
            "4. Dzielenie\n",
            "5. Reszta z dzielenia\n",
            "Podaj numer działania: 4\n",
            "2.58  /  3.0  =  0.86\n"
          ]
        }
      ]
    }
  ]
}